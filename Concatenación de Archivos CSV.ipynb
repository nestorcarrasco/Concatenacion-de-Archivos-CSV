{
 "cells": [
  {
   "cell_type": "code",
   "execution_count": 1,
   "metadata": {},
   "outputs": [],
   "source": [
    "import pandas as pd\n",
    "import os"
   ]
  },
  {
   "cell_type": "code",
   "execution_count": 2,
   "metadata": {},
   "outputs": [
    {
     "name": "stdout",
     "output_type": "stream",
     "text": [
      "La carpeta actual es: \"/Users/ncarral/Jupyter Notebook/Concatenación de Archivos CSV\"\n"
     ]
    }
   ],
   "source": [
    "#Configura la ubicación del Script actual en la variable \"carpeta\"\n",
    "carpeta = os.getcwd()\n",
    "\n",
    "#Deja los archivos CSV en la misma ubicación que se muestra aquí.\n",
    "print('La carpeta actual es: ' + '\"' +carpeta + '\"')"
   ]
  },
  {
   "cell_type": "code",
   "execution_count": 3,
   "metadata": {},
   "outputs": [],
   "source": [
    "#Se crea una lista de archivos CSV encontrados en la \"carpeta\"\n",
    "archivos = []\n",
    "\n",
    "#Se concatenan los archivos CSV\n",
    "for archivo in os.listdir(carpeta):\n",
    "    if archivo.endswith('.csv'):\n",
    "        ruta_archivo = os.path.join(carpeta, archivo)\n",
    "        df = pd.read_csv(ruta_archivo)\n",
    "        archivos.append(df)\n",
    "\n",
    "#Se crea un DataFrame Final.\n",
    "df_final = pd.concat(archivos)\n",
    "\n",
    "#Se exporta a CSV nuevamente.\n",
    "df_final.to_csv('final_data.csv', index=False)"
   ]
  },
  {
   "cell_type": "code",
   "execution_count": 4,
   "metadata": {},
   "outputs": [],
   "source": [
    "# DataFrame para África\n",
    "africa_data = {\n",
    "    'País': ['Egipto', 'Nigeria', 'Sudáfrica'],\n",
    "    'Capital': ['El Cairo', 'Abuya', 'Pretoria'],\n",
    "    'Habitantes': [102334404, 206139587, 59308690],\n",
    "    'Presidente_actual': ['Abdel Fattah el-Sisi', 'Muhammadu Buhari', 'Cyril Ramaphosa'],\n",
    "    'Día_nacional': ['23 de julio', '1 de octubre', '27 de abril']\n",
    "}\n",
    "africa_df = pd.DataFrame(africa_data)\n",
    "africa_df .to_csv('africa_df.csv', index=False)\n",
    "\n",
    "# DataFrame para América\n",
    "america_data = {\n",
    "    'País': ['Estados Unidos', 'México', 'Brasil'],\n",
    "    'Capital': ['Washington D.C.', 'Ciudad de México', 'Brasilia'],\n",
    "    'Habitantes': [331449849, 128932753, 213993437],\n",
    "    'Presidente_actual': ['Joe Biden', 'Andrés Manuel López Obrador', 'Jair Bolsonaro'],\n",
    "    'Día_nacional': ['4 de julio', '16 de septiembre', '7 de septiembre']\n",
    "}\n",
    "america_df = pd.DataFrame(america_data)\n",
    "america_df.to_csv('america_df.csv', index=False)\n",
    "\n",
    "# DataFrame para Asia\n",
    "asia_data = {\n",
    "    'País': ['China', 'Japón', 'India'],\n",
    "    'Capital': ['Pekín', 'Tokio', 'Nueva Delhi'],\n",
    "    'Habitantes': [1444216107, 126476461, 1393409038],\n",
    "    'Presidente_actual': ['Xi Jinping', 'Naruhito', 'Ram Nath Kovind'],\n",
    "    'Día_nacional': ['1 de octubre', '11 de febrero', '26 de enero']\n",
    "}\n",
    "asia_df = pd.DataFrame(asia_data)\n",
    "asia_df.to_csv('asia_df.csv', index=False)\n",
    "\n",
    "# DataFrame para Europa\n",
    "europa_data = {\n",
    "    'País': ['Alemania', 'Francia', 'España'],\n",
    "    'Capital': ['Berlín', 'París', 'Madrid'],\n",
    "    'Habitantes': [83830972, 67530172, 47351567],\n",
    "    'Presidente_actual': ['Frank-Walter Steinmeier', 'Emmanuel Macron', 'Pedro Sánchez'],\n",
    "    'Día_nacional': ['3 de octubre', '14 de julio', '12 de octubre']\n",
    "}\n",
    "europa_df = pd.DataFrame(europa_data)\n",
    "europa_df.to_csv('europa_df.csv', index=False)\n",
    "\n",
    "# DataFrame para Oceanía\n",
    "oceania_data = {\n",
    "    'País': ['Australia', 'Nueva Zelanda', 'Fiyi'],\n",
    "    'Capital': ['Canberra', 'Wellington', 'Suva'],\n",
    "    'Habitantes': [25748422, 5084300, 902547],\n",
    "    'Presidente_actual': ['Scott Morrison', 'Jacinda Ardern', 'Jioji Konrote'],\n",
    "    'Día_nacional': ['26 de enero', '6 de febrero', '10 de octubre']\n",
    "}\n",
    "oceania_df = pd.DataFrame(oceania_data)\n",
    "oceania_df.to_csv('oceania_data.csv', index=False)\n"
   ]
  }
 ],
 "metadata": {
  "kernelspec": {
   "display_name": "base",
   "language": "python",
   "name": "python3"
  },
  "language_info": {
   "codemirror_mode": {
    "name": "ipython",
    "version": 3
   },
   "file_extension": ".py",
   "mimetype": "text/x-python",
   "name": "python",
   "nbconvert_exporter": "python",
   "pygments_lexer": "ipython3",
   "version": "3.10.9"
  },
  "orig_nbformat": 4
 },
 "nbformat": 4,
 "nbformat_minor": 2
}
